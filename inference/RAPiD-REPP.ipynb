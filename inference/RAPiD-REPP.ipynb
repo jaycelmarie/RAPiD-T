{
 "cells": [
  {
   "cell_type": "code",
   "execution_count": 1,
   "id": "488f3104",
   "metadata": {},
   "outputs": [],
   "source": [
    "%matplotlib inline\n",
    "%load_ext autoreload\n",
    "%autoreload 2\n",
    "\n",
    "import os\n",
    "os.chdir(\"/project/arpae/mtezcan/projects/RAPiD-T/\")\n",
    "\n",
    "import matplotlib.pyplot as plt\n",
    "from PIL import Image\n",
    "import cv2\n",
    "import numpy as np \n",
    "import glob\n",
    "from api import Detector\n",
    "import json\n",
    "import time\n",
    "\n",
    "from utils import visualization\n",
    "from utils import vid_utils as vid\n",
    "from utils import repp_rotated_api as repp"
   ]
  },
  {
   "cell_type": "code",
   "execution_count": 3,
   "id": "74450e83",
   "metadata": {},
   "outputs": [
    {
     "name": "stdout",
     "output_type": "stream",
     "text": [
      "Number of parameters in backbone: 40584928\n",
      "Successfully initialized model rapid. Total number of trainable parameters: 72674070\n",
      "Successfully loaded weights: weights/RAPiD.ckpt\n",
      "Using CUDA...\n",
      "Loading clf matching model: ./weights/matching_model_logreg_cepdof_dist5.pckl\n"
     ]
    }
   ],
   "source": [
    "weights_path = \"weights/RAPiD.ckpt\"\n",
    "in_path = \"examples\"\n",
    "out_path = \"outputs/RAPiD_REPP\"\n",
    "os.makedirs(out_path, exist_ok=True)\n",
    "flow_warping = False\n",
    "detector = Detector(model_name='rapid', weights_path=weights_path)\n",
    "\n",
    "# Load bbox assocation model of REPP\n",
    "repp_cfg = \"utils/cepdof_repp_cfg.json\"\n",
    "repp_params = json.load(open(repp_cfg, 'r'))    \n",
    "repp_model = repp.REPP(**repp_params)"
   ]
  },
  {
   "cell_type": "code",
   "execution_count": 4,
   "id": "4ab51d76",
   "metadata": {},
   "outputs": [],
   "source": [
    "vid_names = ['warehouse_short']"
   ]
  },
  {
   "cell_type": "code",
   "execution_count": 6,
   "id": "146f73f7",
   "metadata": {},
   "outputs": [
    {
     "name": "stdout",
     "output_type": "stream",
     "text": [
      "Dealing with warehouse_short\n",
      "Computing detections...\n",
      "Confidence Threshold is 0.3\n",
      "Post-processing with REPP...\n",
      "Computed detections of 49 frames in 10.1376 seconds: 4.8335 FPS\n",
      "Creating video...\n",
      "DONE!\n"
     ]
    }
   ],
   "source": [
    "vid_conf = 0.3\n",
    "os.makedirs(os.path.join(out_path, \"txts\"), exist_ok=True)\n",
    "os.makedirs(os.path.join(out_path, \"jsons\"), exist_ok=True)\n",
    "os.makedirs(os.path.join(out_path, f\"vids/conf{vid_conf}\"), exist_ok=True)\n",
    "\n",
    "for vid_name in vid_names:\n",
    "    print(f\"Dealing with {vid_name}\")\n",
    "    vid_folder = os.path.join(in_path, vid_name)\n",
    "    txt_det_folder = os.path.join(out_path, \"txts\", vid_name)\n",
    "    json_det_path = os.path.join(out_path, \"jsons\", f\"{vid_name}_dets.json\")\n",
    "    \n",
    "    # Compute detections\n",
    "    print(\"Computing detections...\")\n",
    "    \n",
    "    tic = time.perf_counter()\n",
    "    vid.saveDets(\n",
    "        detector, \n",
    "        vid_folder, \n",
    "        txt_det_folder, \n",
    "    )\n",
    "\n",
    "    # Convert detections from txt to json\n",
    "    dets_arr = vid.txt2json(txt_det_folder, save_as_json=False)\n",
    "    \n",
    "    # REPP post-processing\n",
    "    print(\"Post-processing with REPP...\")\n",
    "    dets_dict = repp.det_arr_to_det_dict(dets_arr)\n",
    "    dets_repp = repp_model(dets_dict)\n",
    "    json.dump(dets_repp, open(json_det_path, 'w'), indent=4)  \n",
    "    toc = time.perf_counter()\n",
    "    elapsed = toc - tic\n",
    "    num_frames = len(os.listdir(vid_folder))\n",
    "    fps = num_frames / elapsed\n",
    "    print(f\"Computed detections of {num_frames} frames in {elapsed:0.4f} seconds: {fps:0.4f} FPS\")  \n",
    "    \n",
    "    # Produce a video of detections\n",
    "    print(\"Creating video...\")\n",
    "    im2dets = vid.json2dict(json_det_path)\n",
    "    im2dets_arr = [(im2dets, (0, 255, 0), False, vid_conf)]\n",
    "    vid_path = os.path.join(out_path, f\"vids/conf{vid_conf}\", f\"{vid_name}_dets.mp4\")\n",
    "    vid.saveVideo(vid_folder, im2dets_arr, vid_path)\n",
    "print(\"DONE!\")"
   ]
  }
 ],
 "metadata": {
  "kernelspec": {
   "display_name": "Python 3",
   "language": "python",
   "name": "python3"
  },
  "language_info": {
   "codemirror_mode": {
    "name": "ipython",
    "version": 3
   },
   "file_extension": ".py",
   "mimetype": "text/x-python",
   "name": "python",
   "nbconvert_exporter": "python",
   "pygments_lexer": "ipython3",
   "version": "3.8.10"
  }
 },
 "nbformat": 4,
 "nbformat_minor": 5
}
